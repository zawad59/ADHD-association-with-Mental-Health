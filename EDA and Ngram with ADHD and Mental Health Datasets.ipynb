{
 "cells": [
  {
   "cell_type": "code",
   "execution_count": 7,
   "metadata": {},
   "outputs": [
    {
     "name": "stderr",
     "output_type": "stream",
     "text": [
      "C:\\Users\\Asus\\Anaconda3\\lib\\site-packages\\IPython\\core\\interactiveshell.py:3267: DtypeWarning: Columns (2,6) have mixed types.Specify dtype option on import or set low_memory=False.\n",
      "  exec(code_obj, self.user_global_ns, self.user_ns)\n"
     ]
    },
    {
     "data": {
      "text/html": [
       "<div>\n",
       "<style scoped>\n",
       "    .dataframe tbody tr th:only-of-type {\n",
       "        vertical-align: middle;\n",
       "    }\n",
       "\n",
       "    .dataframe tbody tr th {\n",
       "        vertical-align: top;\n",
       "    }\n",
       "\n",
       "    .dataframe thead th {\n",
       "        text-align: right;\n",
       "    }\n",
       "</style>\n",
       "<table border=\"1\" class=\"dataframe\">\n",
       "  <thead>\n",
       "    <tr style=\"text-align: right;\">\n",
       "      <th></th>\n",
       "      <th>title</th>\n",
       "      <th>selftext</th>\n",
       "      <th>score</th>\n",
       "      <th>id</th>\n",
       "      <th>url</th>\n",
       "      <th>num_comments</th>\n",
       "      <th>created_utc</th>\n",
       "      <th>created_datetime</th>\n",
       "    </tr>\n",
       "  </thead>\n",
       "  <tbody>\n",
       "    <tr>\n",
       "      <th>0</th>\n",
       "      <td>Android app to strengthen attention/focus</td>\n",
       "      <td>Hey /r/ADHD,\\n\\nCheck out my simple Android ap...</td>\n",
       "      <td>6</td>\n",
       "      <td>k348a</td>\n",
       "      <td>https://www.reddit.com/r/ADHD/comments/k348a/a...</td>\n",
       "      <td>7.0</td>\n",
       "      <td>1315014480.0</td>\n",
       "      <td>2011-09-03 01:48:00</td>\n",
       "    </tr>\n",
       "    <tr>\n",
       "      <th>1</th>\n",
       "      <td>Does anyone here have experience with Imipramine?</td>\n",
       "      <td>My doctor has suggested it for ADD with anxiet...</td>\n",
       "      <td>4</td>\n",
       "      <td>k3gdz</td>\n",
       "      <td>https://www.reddit.com/r/ADHD/comments/k3gdz/d...</td>\n",
       "      <td>1.0</td>\n",
       "      <td>1315051084.0</td>\n",
       "      <td>2011-09-03 11:58:04</td>\n",
       "    </tr>\n",
       "    <tr>\n",
       "      <th>2</th>\n",
       "      <td>New study shows that for people with ADHD, \\n\"...</td>\n",
       "      <td>NaN</td>\n",
       "      <td>22</td>\n",
       "      <td>k4q79</td>\n",
       "      <td>http://www.utexas.edu/features/2011/08/29/adhd...</td>\n",
       "      <td>11.0</td>\n",
       "      <td>1315174374.0</td>\n",
       "      <td>2011-09-04 22:12:54</td>\n",
       "    </tr>\n",
       "    <tr>\n",
       "      <th>3</th>\n",
       "      <td>What does the ADHD test look like?</td>\n",
       "      <td>I'm 21 and didn't know about ADHD until recent...</td>\n",
       "      <td>6</td>\n",
       "      <td>k5fvd</td>\n",
       "      <td>https://www.reddit.com/r/ADHD/comments/k5fvd/w...</td>\n",
       "      <td>10.0</td>\n",
       "      <td>1315239683.0</td>\n",
       "      <td>2011-09-05 16:21:23</td>\n",
       "    </tr>\n",
       "    <tr>\n",
       "      <th>4</th>\n",
       "      <td>Are you guys good with maps and directions?</td>\n",
       "      <td>It seems like one thing I've always been reall...</td>\n",
       "      <td>0</td>\n",
       "      <td>k6efi</td>\n",
       "      <td>https://www.reddit.com/r/ADHD/comments/k6efi/a...</td>\n",
       "      <td>0.0</td>\n",
       "      <td>1315317191.0</td>\n",
       "      <td>2011-09-06 13:53:11</td>\n",
       "    </tr>\n",
       "  </tbody>\n",
       "</table>\n",
       "</div>"
      ],
      "text/plain": [
       "                                               title  \\\n",
       "0          Android app to strengthen attention/focus   \n",
       "1  Does anyone here have experience with Imipramine?   \n",
       "2  New study shows that for people with ADHD, \\n\"...   \n",
       "3                 What does the ADHD test look like?   \n",
       "4       Are you guys good with maps and directions?    \n",
       "\n",
       "                                            selftext score     id  \\\n",
       "0  Hey /r/ADHD,\\n\\nCheck out my simple Android ap...     6  k348a   \n",
       "1  My doctor has suggested it for ADD with anxiet...     4  k3gdz   \n",
       "2                                                NaN    22  k4q79   \n",
       "3  I'm 21 and didn't know about ADHD until recent...     6  k5fvd   \n",
       "4  It seems like one thing I've always been reall...     0  k6efi   \n",
       "\n",
       "                                                 url  num_comments  \\\n",
       "0  https://www.reddit.com/r/ADHD/comments/k348a/a...           7.0   \n",
       "1  https://www.reddit.com/r/ADHD/comments/k3gdz/d...           1.0   \n",
       "2  http://www.utexas.edu/features/2011/08/29/adhd...          11.0   \n",
       "3  https://www.reddit.com/r/ADHD/comments/k5fvd/w...          10.0   \n",
       "4  https://www.reddit.com/r/ADHD/comments/k6efi/a...           0.0   \n",
       "\n",
       "    created_utc     created_datetime  \n",
       "0  1315014480.0  2011-09-03 01:48:00  \n",
       "1  1315051084.0  2011-09-03 11:58:04  \n",
       "2  1315174374.0  2011-09-04 22:12:54  \n",
       "3  1315239683.0  2011-09-05 16:21:23  \n",
       "4  1315317191.0  2011-09-06 13:53:11  "
      ]
     },
     "execution_count": 7,
     "metadata": {},
     "output_type": "execute_result"
    }
   ],
   "source": [
    "import pandas as pd\n",
    "\n",
    "newDf = pd.read_csv('ADHD.csv')\n",
    "\n",
    "newDf.head()"
   ]
  },
  {
   "cell_type": "code",
   "execution_count": 8,
   "metadata": {},
   "outputs": [
    {
     "name": "stdout",
     "output_type": "stream",
     "text": [
      "<class 'pandas.core.frame.DataFrame'>\n",
      "Int64Index: 6721 entries, 4815 to 34990\n",
      "Data columns (total 8 columns):\n",
      " #   Column            Non-Null Count  Dtype  \n",
      "---  ------            --------------  -----  \n",
      " 0   title             6721 non-null   object \n",
      " 1   selftext          6627 non-null   object \n",
      " 2   score             6721 non-null   object \n",
      " 3   id                6721 non-null   object \n",
      " 4   url               6721 non-null   object \n",
      " 5   num_comments      6721 non-null   float64\n",
      " 6   created_utc       6721 non-null   object \n",
      " 7   created_datetime  6721 non-null   object \n",
      "dtypes: float64(1), object(7)\n",
      "memory usage: 472.6+ KB\n",
      "None \n",
      "\n"
     ]
    }
   ],
   "source": [
    "newDf = newDf.sample(frac=0.02, random_state=1)\n",
    "\n",
    "print(newDf.info(),'\\n')"
   ]
  },
  {
   "cell_type": "code",
   "execution_count": 9,
   "metadata": {},
   "outputs": [
    {
     "data": {
      "text/html": [
       "<div>\n",
       "<style scoped>\n",
       "    .dataframe tbody tr th:only-of-type {\n",
       "        vertical-align: middle;\n",
       "    }\n",
       "\n",
       "    .dataframe tbody tr th {\n",
       "        vertical-align: top;\n",
       "    }\n",
       "\n",
       "    .dataframe thead th {\n",
       "        text-align: right;\n",
       "    }\n",
       "</style>\n",
       "<table border=\"1\" class=\"dataframe\">\n",
       "  <thead>\n",
       "    <tr style=\"text-align: right;\">\n",
       "      <th></th>\n",
       "      <th>title</th>\n",
       "    </tr>\n",
       "  </thead>\n",
       "  <tbody>\n",
       "    <tr>\n",
       "      <th>4815</th>\n",
       "      <td>My doctor lost his licence a few days from nex...</td>\n",
       "    </tr>\n",
       "    <tr>\n",
       "      <th>78504</th>\n",
       "      <td>Besides not being neurotypical, is anyone else...</td>\n",
       "    </tr>\n",
       "    <tr>\n",
       "      <th>56091</th>\n",
       "      <td>Casinos, yes or no?</td>\n",
       "    </tr>\n",
       "    <tr>\n",
       "      <th>77259</th>\n",
       "      <td>Anybody here has had success with the Getting ...</td>\n",
       "    </tr>\n",
       "    <tr>\n",
       "      <th>332202</th>\n",
       "      <td>frustration</td>\n",
       "    </tr>\n",
       "    <tr>\n",
       "      <th>...</th>\n",
       "      <td>...</td>\n",
       "    </tr>\n",
       "    <tr>\n",
       "      <th>296548</th>\n",
       "      <td>Hardcore Avoidance Recently- anyone else?</td>\n",
       "    </tr>\n",
       "    <tr>\n",
       "      <th>38891</th>\n",
       "      <td>ADD and coffee?</td>\n",
       "    </tr>\n",
       "    <tr>\n",
       "      <th>73617</th>\n",
       "      <td>Drugs made my life much better than i thought ...</td>\n",
       "    </tr>\n",
       "    <tr>\n",
       "      <th>125490</th>\n",
       "      <td>Ritalin euphoria?</td>\n",
       "    </tr>\n",
       "    <tr>\n",
       "      <th>34990</th>\n",
       "      <td>I know this is ridiculous but can someone plea...</td>\n",
       "    </tr>\n",
       "  </tbody>\n",
       "</table>\n",
       "<p>6721 rows × 1 columns</p>\n",
       "</div>"
      ],
      "text/plain": [
       "                                                    title\n",
       "4815    My doctor lost his licence a few days from nex...\n",
       "78504   Besides not being neurotypical, is anyone else...\n",
       "56091                                 Casinos, yes or no?\n",
       "77259   Anybody here has had success with the Getting ...\n",
       "332202                                        frustration\n",
       "...                                                   ...\n",
       "296548          Hardcore Avoidance Recently- anyone else?\n",
       "38891                                     ADD and coffee?\n",
       "73617   Drugs made my life much better than i thought ...\n",
       "125490                                  Ritalin euphoria?\n",
       "34990   I know this is ridiculous but can someone plea...\n",
       "\n",
       "[6721 rows x 1 columns]"
      ]
     },
     "execution_count": 9,
     "metadata": {},
     "output_type": "execute_result"
    }
   ],
   "source": [
    "newDf = newDf.drop(['selftext','url','num_comments','created_utc','score', 'id', 'created_datetime'],axis='columns')\n",
    "newDf"
   ]
  },
  {
   "cell_type": "code",
   "execution_count": 11,
   "metadata": {},
   "outputs": [
    {
     "data": {
      "text/plain": [
       "4815      My doctor lost his licence a few days from nex...\n",
       "78504     Besides not being neurotypical, is anyone else...\n",
       "56091                                   Casinos, yes or no?\n",
       "77259     Anybody here has had success with the Getting ...\n",
       "332202                                          frustration\n",
       "                                ...                        \n",
       "296548            Hardcore Avoidance Recently- anyone else?\n",
       "38891                                       ADD and coffee?\n",
       "73617     Drugs made my life much better than i thought ...\n",
       "125490                                    Ritalin euphoria?\n",
       "34990     I know this is ridiculous but can someone plea...\n",
       "Name: title, Length: 6721, dtype: object"
      ]
     },
     "execution_count": 11,
     "metadata": {},
     "output_type": "execute_result"
    }
   ],
   "source": [
    "import re\n",
    "import string\n",
    "STOPWORDS = stopwords.words('english')\n",
    "PUNCTUATION = string.punctuation\n",
    "\n",
    "def remove_urls(text):    \n",
    "    url_pattern = re.compile(r'https?://\\S+|www\\.\\S+')\n",
    "    return url_pattern.sub(r'', text)\n",
    "\n",
    "newDf['title'] = newDf['title'].apply(remove_urls)\n",
    "\n",
    "newDf['title']"
   ]
  },
  {
   "cell_type": "code",
   "execution_count": 12,
   "metadata": {},
   "outputs": [
    {
     "data": {
      "text/plain": [
       "4815      my doctor lost his licence a few days from nex...\n",
       "78504     besides not being neurotypical, is anyone else...\n",
       "56091                                   casinos, yes or no?\n",
       "77259     anybody here has had success with the getting ...\n",
       "332202                                          frustration\n",
       "                                ...                        \n",
       "296548            hardcore avoidance recently- anyone else?\n",
       "38891                                       add and coffee?\n",
       "73617     drugs made my life much better than i thought ...\n",
       "125490                                    ritalin euphoria?\n",
       "34990     i know this is ridiculous but can someone plea...\n",
       "Name: title, Length: 6721, dtype: object"
      ]
     },
     "execution_count": 12,
     "metadata": {},
     "output_type": "execute_result"
    }
   ],
   "source": [
    "newDf['title'] = newDf['title'].str.lower()\n",
    "newDf['title']"
   ]
  },
  {
   "cell_type": "code",
   "execution_count": 13,
   "metadata": {},
   "outputs": [
    {
     "data": {
      "text/plain": [
       "4815      my doctor lost his licence a few days from nex...\n",
       "78504     besides not being neurotypical is anyone else ...\n",
       "56091                                     casinos yes or no\n",
       "77259     anybody here has had success with the getting ...\n",
       "332202                                          frustration\n",
       "Name: title, dtype: object"
      ]
     },
     "execution_count": 13,
     "metadata": {},
     "output_type": "execute_result"
    }
   ],
   "source": [
    "def remove_punctuation(text):\n",
    "    no_punctuation = \"\".join([word for word in text if word not in PUNCTUATION])\n",
    "    return no_punctuation\n",
    "\n",
    "newDf['title'] = newDf['title'].apply(remove_punctuation)\n",
    "\n",
    "newDf['title'].head()"
   ]
  },
  {
   "cell_type": "code",
   "execution_count": 14,
   "metadata": {},
   "outputs": [
    {
     "data": {
      "text/plain": [
       "4815      my doctor lost his licence few days from next ...\n",
       "78504     besides not being neurotypical is anyone else ...\n",
       "56091                                     casinos yes or no\n",
       "77259     anybody here has had success with the getting ...\n",
       "332202                                          frustration\n",
       "Name: title, dtype: object"
      ]
     },
     "execution_count": 14,
     "metadata": {},
     "output_type": "execute_result"
    }
   ],
   "source": [
    "def remove_extra_white_spaces(text):\n",
    "    single_char_pattern = r'\\s+[a-zA-Z]\\s+'\n",
    "    without_sc = re.sub(pattern=single_char_pattern, repl=\" \", string = text)\n",
    "    return without_sc\n",
    "\n",
    "newDf['title'] = newDf['title'].apply(remove_extra_white_spaces)\n",
    "\n",
    "newDf['title'].head()"
   ]
  },
  {
   "cell_type": "code",
   "execution_count": 17,
   "metadata": {},
   "outputs": [
    {
     "data": {
      "text/plain": [
       "4815       doctor lost licence days next college termlovely\n",
       "78504     besides neurotypical anyone else physically at...\n",
       "56091                                           casinos yes\n",
       "77259     anybody success getting things done gtd method...\n",
       "332202                                          frustration\n",
       "Name: title, dtype: object"
      ]
     },
     "execution_count": 17,
     "metadata": {},
     "output_type": "execute_result"
    }
   ],
   "source": [
    "from nltk.corpus import stopwords\n",
    "from nltk.corpus import stopwords\n",
    "from nltk.tokenize import word_tokenize, sent_tokenize\n",
    "STOPWORDS = stopwords.words('english')\n",
    "def remove_stopwords(text):\n",
    "    no_stopwords = []    \n",
    "    tokens = word_tokenize(text)\n",
    "    \n",
    "    for i in range(len(tokens)):\n",
    "        if tokens[i] not in STOPWORDS:\n",
    "            no_stopwords.append(tokens[i])\n",
    "            \n",
    "    return \" \".join(no_stopwords)\n",
    "\n",
    "newDf['title'] = newDf['title'].apply(remove_stopwords)\n",
    "newDf['title'].head()"
   ]
  },
  {
   "cell_type": "code",
   "execution_count": 18,
   "metadata": {},
   "outputs": [],
   "source": [
    "import numpy as np\n",
    "def drop_duplicates(row):\n",
    "    # Split string by ', ', drop duplicates and join back.\n",
    "    words = row.split(', ')\n",
    "    return ', '.join(np.unique(words).tolist())\n",
    "newDf['title'] = newDf['title'].apply(drop_duplicates)"
   ]
  },
  {
   "cell_type": "code",
   "execution_count": 19,
   "metadata": {},
   "outputs": [
    {
     "data": {
      "text/plain": [
       "4815        doctor lost licence day next college termlovely\n",
       "78504     besides neurotypical anyone else physically at...\n",
       "56091                                            casino yes\n",
       "77259     anybody success getting thing done gtd method ...\n",
       "332202                                          frustration\n",
       "Name: title, dtype: object"
      ]
     },
     "execution_count": 19,
     "metadata": {},
     "output_type": "execute_result"
    }
   ],
   "source": [
    "from nltk.stem import WordNetLemmatizer\n",
    "def lemmatize_text(text):    \n",
    "    lemmatizer = WordNetLemmatizer()\n",
    "    tokens = word_tokenize(text)\n",
    "    for i in range(len(tokens)):\n",
    "        lemma_word = lemmatizer.lemmatize(tokens[i])\n",
    "        tokens[i] = lemma_word\n",
    "    return \" \".join(tokens)\n",
    "\n",
    "newDf['title'] = newDf['title'].apply(lemmatize_text)\n",
    "newDf['title'].head()"
   ]
  },
  {
   "cell_type": "code",
   "execution_count": 20,
   "metadata": {},
   "outputs": [],
   "source": [
    "import re\n",
    "from nltk.util import ngrams\n",
    "list1 = []\n",
    "def generate_N_grams(text,ngram=1):\n",
    "    text = re.sub(r'[^a-zA-Z0-9\\s]', ' ', text)\n",
    "    tokens = [token for token in text.split(\" \") if token != \"\"]\n",
    "    output = list(ngrams(tokens, ngram))\n",
    "    return output"
   ]
  },
  {
   "cell_type": "code",
   "execution_count": 26,
   "metadata": {},
   "outputs": [
    {
     "name": "stdout",
     "output_type": "stream",
     "text": [
      "[('feel', 'like', 'im'), ('anyone', 'else', 'feel'), ('ever', 'feel', 'like'), ('anyone', 'else', 'experience'), ('recently', 'diagnosed', 'adhd'), ('else', 'feel', 'like'), ('anyone', 'else', 'find'), ('got', 'diagnosed', 'adhd'), ('rejection', 'sensitive', 'dysphoria'), ('anyone', 'else', 'issue'), ('anyone', 'else', 'struggle'), ('kick', 'start', 'sunday'), ('anyone', 'else', 'problem'), ('anyone', 'else', 'get'), ('med', 'first', 'time'), ('make', 'feel', 'like'), ('think', 'might', 'adhd'), ('anyone', 'else', 'trouble'), ('anyone', 'else', 'hate'), ('anyone', 'else', 'really'), ('finally', 'got', 'diagnosed'), ('get', 'stuff', 'done'), ('short', 'term', 'memory'), ('started', 'taking', 'adderall'), ('could', 'use', 'advice'), ('feel', 'like', 'failure'), ('diagnosed', 'adult', 'adhd'), ('get', 'thing', 'done'), ('taking', 'adhd', 'medication'), ('might', 'adhd', 'im')]\n"
     ]
    }
   ],
   "source": [
    "lst = []\n",
    "for X in newDf['title']:\n",
    "    y = generate_N_grams(X,3)\n",
    "    lst.append(y)\n",
    "\n",
    "def flatten(input):\n",
    "    new_list = []\n",
    "    for i in input:\n",
    "        for j in i:\n",
    "            new_list.append(j)\n",
    "    return new_list\n",
    "\n",
    "lst1 = flatten(lst)\n",
    "\n",
    "finalList1 = []\n",
    "\n",
    "from collections import Counter\n",
    "c = Counter(lst1)\n",
    "M = c.most_common(30)\n",
    "\n",
    "for key,val in M:\n",
    "    finalList1.append(key)\n",
    "\n",
    "print(finalList1)"
   ]
  },
  {
   "cell_type": "code",
   "execution_count": 22,
   "metadata": {},
   "outputs": [
    {
     "data": {
      "text/html": [
       "<div>\n",
       "<style scoped>\n",
       "    .dataframe tbody tr th:only-of-type {\n",
       "        vertical-align: middle;\n",
       "    }\n",
       "\n",
       "    .dataframe tbody tr th {\n",
       "        vertical-align: top;\n",
       "    }\n",
       "\n",
       "    .dataframe thead th {\n",
       "        text-align: right;\n",
       "    }\n",
       "</style>\n",
       "<table border=\"1\" class=\"dataframe\">\n",
       "  <thead>\n",
       "    <tr style=\"text-align: right;\">\n",
       "      <th></th>\n",
       "      <th>subreddit</th>\n",
       "      <th>author</th>\n",
       "      <th>date</th>\n",
       "      <th>post</th>\n",
       "      <th>automated_readability_index</th>\n",
       "      <th>coleman_liau_index</th>\n",
       "      <th>flesch_kincaid_grade_level</th>\n",
       "      <th>flesch_reading_ease</th>\n",
       "      <th>gulpease_index</th>\n",
       "      <th>gunning_fog_index</th>\n",
       "      <th>...</th>\n",
       "      <th>tfidf_wish</th>\n",
       "      <th>tfidf_without</th>\n",
       "      <th>tfidf_wonder</th>\n",
       "      <th>tfidf_work</th>\n",
       "      <th>tfidf_worri</th>\n",
       "      <th>tfidf_wors</th>\n",
       "      <th>tfidf_would</th>\n",
       "      <th>tfidf_wrong</th>\n",
       "      <th>tfidf_x200b</th>\n",
       "      <th>tfidf_year</th>\n",
       "    </tr>\n",
       "  </thead>\n",
       "  <tbody>\n",
       "    <tr>\n",
       "      <th>0</th>\n",
       "      <td>anxiety</td>\n",
       "      <td>Watch_Me_Get_</td>\n",
       "      <td>2018/01/01</td>\n",
       "      <td>Does anyone else like taking long walks while ...</td>\n",
       "      <td>5.007692</td>\n",
       "      <td>8.594266</td>\n",
       "      <td>3.283462</td>\n",
       "      <td>83.099038</td>\n",
       "      <td>85.923077</td>\n",
       "      <td>5.676923</td>\n",
       "      <td>...</td>\n",
       "      <td>0.0</td>\n",
       "      <td>0.0</td>\n",
       "      <td>0.0</td>\n",
       "      <td>0.000000</td>\n",
       "      <td>0.000000</td>\n",
       "      <td>0.0</td>\n",
       "      <td>0.000000</td>\n",
       "      <td>0.0</td>\n",
       "      <td>0.0</td>\n",
       "      <td>0.000000</td>\n",
       "    </tr>\n",
       "    <tr>\n",
       "      <th>1</th>\n",
       "      <td>anxiety</td>\n",
       "      <td>Imhereforgames</td>\n",
       "      <td>2018/01/01</td>\n",
       "      <td>Meditation is making me anxious I do a couple ...</td>\n",
       "      <td>-0.716269</td>\n",
       "      <td>1.459650</td>\n",
       "      <td>1.640910</td>\n",
       "      <td>95.231515</td>\n",
       "      <td>96.910448</td>\n",
       "      <td>3.874030</td>\n",
       "      <td>...</td>\n",
       "      <td>0.0</td>\n",
       "      <td>0.0</td>\n",
       "      <td>0.0</td>\n",
       "      <td>0.000000</td>\n",
       "      <td>0.263306</td>\n",
       "      <td>0.0</td>\n",
       "      <td>0.000000</td>\n",
       "      <td>0.0</td>\n",
       "      <td>0.0</td>\n",
       "      <td>0.000000</td>\n",
       "    </tr>\n",
       "    <tr>\n",
       "      <th>2</th>\n",
       "      <td>anxiety</td>\n",
       "      <td>ABrokenBeing</td>\n",
       "      <td>2018/01/01</td>\n",
       "      <td>Rant about anxiety meds - I've been self medic...</td>\n",
       "      <td>5.962747</td>\n",
       "      <td>7.543635</td>\n",
       "      <td>6.078791</td>\n",
       "      <td>76.416209</td>\n",
       "      <td>67.131868</td>\n",
       "      <td>9.006593</td>\n",
       "      <td>...</td>\n",
       "      <td>0.0</td>\n",
       "      <td>0.0</td>\n",
       "      <td>0.0</td>\n",
       "      <td>0.071020</td>\n",
       "      <td>0.000000</td>\n",
       "      <td>0.0</td>\n",
       "      <td>0.000000</td>\n",
       "      <td>0.0</td>\n",
       "      <td>0.0</td>\n",
       "      <td>0.000000</td>\n",
       "    </tr>\n",
       "    <tr>\n",
       "      <th>3</th>\n",
       "      <td>anxiety</td>\n",
       "      <td>Sleekdiamond41</td>\n",
       "      <td>2018/01/01</td>\n",
       "      <td>Some advice for my friend please? I dated this...</td>\n",
       "      <td>6.582939</td>\n",
       "      <td>6.555885</td>\n",
       "      <td>6.839898</td>\n",
       "      <td>77.193316</td>\n",
       "      <td>65.244898</td>\n",
       "      <td>9.775510</td>\n",
       "      <td>...</td>\n",
       "      <td>0.0</td>\n",
       "      <td>0.0</td>\n",
       "      <td>0.0</td>\n",
       "      <td>0.179712</td>\n",
       "      <td>0.000000</td>\n",
       "      <td>0.0</td>\n",
       "      <td>0.175357</td>\n",
       "      <td>0.0</td>\n",
       "      <td>0.0</td>\n",
       "      <td>0.158965</td>\n",
       "    </tr>\n",
       "    <tr>\n",
       "      <th>4</th>\n",
       "      <td>anxiety</td>\n",
       "      <td>coffeegreentea</td>\n",
       "      <td>2018/01/01</td>\n",
       "      <td>Feeling like I’m back to where I started. I’ve...</td>\n",
       "      <td>5.459158</td>\n",
       "      <td>6.349314</td>\n",
       "      <td>6.922802</td>\n",
       "      <td>72.443031</td>\n",
       "      <td>67.791209</td>\n",
       "      <td>10.242491</td>\n",
       "      <td>...</td>\n",
       "      <td>0.0</td>\n",
       "      <td>0.0</td>\n",
       "      <td>0.0</td>\n",
       "      <td>0.108041</td>\n",
       "      <td>0.000000</td>\n",
       "      <td>0.0</td>\n",
       "      <td>0.000000</td>\n",
       "      <td>0.0</td>\n",
       "      <td>0.0</td>\n",
       "      <td>0.000000</td>\n",
       "    </tr>\n",
       "  </tbody>\n",
       "</table>\n",
       "<p>5 rows × 350 columns</p>\n",
       "</div>"
      ],
      "text/plain": [
       "  subreddit          author        date  \\\n",
       "0   anxiety   Watch_Me_Get_  2018/01/01   \n",
       "1   anxiety  Imhereforgames  2018/01/01   \n",
       "2   anxiety    ABrokenBeing  2018/01/01   \n",
       "3   anxiety  Sleekdiamond41  2018/01/01   \n",
       "4   anxiety  coffeegreentea  2018/01/01   \n",
       "\n",
       "                                                post  \\\n",
       "0  Does anyone else like taking long walks while ...   \n",
       "1  Meditation is making me anxious I do a couple ...   \n",
       "2  Rant about anxiety meds - I've been self medic...   \n",
       "3  Some advice for my friend please? I dated this...   \n",
       "4  Feeling like I’m back to where I started. I’ve...   \n",
       "\n",
       "   automated_readability_index  coleman_liau_index  \\\n",
       "0                     5.007692            8.594266   \n",
       "1                    -0.716269            1.459650   \n",
       "2                     5.962747            7.543635   \n",
       "3                     6.582939            6.555885   \n",
       "4                     5.459158            6.349314   \n",
       "\n",
       "   flesch_kincaid_grade_level  flesch_reading_ease  gulpease_index  \\\n",
       "0                    3.283462            83.099038       85.923077   \n",
       "1                    1.640910            95.231515       96.910448   \n",
       "2                    6.078791            76.416209       67.131868   \n",
       "3                    6.839898            77.193316       65.244898   \n",
       "4                    6.922802            72.443031       67.791209   \n",
       "\n",
       "   gunning_fog_index  ...  tfidf_wish  tfidf_without  tfidf_wonder  \\\n",
       "0           5.676923  ...         0.0            0.0           0.0   \n",
       "1           3.874030  ...         0.0            0.0           0.0   \n",
       "2           9.006593  ...         0.0            0.0           0.0   \n",
       "3           9.775510  ...         0.0            0.0           0.0   \n",
       "4          10.242491  ...         0.0            0.0           0.0   \n",
       "\n",
       "   tfidf_work  tfidf_worri  tfidf_wors  tfidf_would  tfidf_wrong  tfidf_x200b  \\\n",
       "0    0.000000     0.000000         0.0     0.000000          0.0          0.0   \n",
       "1    0.000000     0.263306         0.0     0.000000          0.0          0.0   \n",
       "2    0.071020     0.000000         0.0     0.000000          0.0          0.0   \n",
       "3    0.179712     0.000000         0.0     0.175357          0.0          0.0   \n",
       "4    0.108041     0.000000         0.0     0.000000          0.0          0.0   \n",
       "\n",
       "   tfidf_year  \n",
       "0    0.000000  \n",
       "1    0.000000  \n",
       "2    0.000000  \n",
       "3    0.158965  \n",
       "4    0.000000  \n",
       "\n",
       "[5 rows x 350 columns]"
      ]
     },
     "execution_count": 22,
     "metadata": {},
     "output_type": "execute_result"
    }
   ],
   "source": [
    "import pandas as pd\n",
    "\n",
    "df = pd.read_csv('anxiety_2018_features_tfidf_256.csv')\n",
    "\n",
    "df.head()"
   ]
  },
  {
   "cell_type": "code",
   "execution_count": 145,
   "metadata": {},
   "outputs": [
    {
     "name": "stdout",
     "output_type": "stream",
     "text": [
      "<class 'pandas.core.frame.DataFrame'>\n",
      "Int64Index: 18 entries, 5382 to 6737\n",
      "Data columns (total 1 columns):\n",
      " #   Column  Non-Null Count  Dtype \n",
      "---  ------  --------------  ----- \n",
      " 0   title   18 non-null     object\n",
      "dtypes: object(1)\n",
      "memory usage: 288.0+ bytes\n",
      "None \n",
      "\n"
     ]
    }
   ],
   "source": [
    "newDf = newDf.sample(frac=0.02, random_state=1)\n",
    "\n",
    "print(newDf.info(),'\\n')"
   ]
  },
  {
   "cell_type": "code",
   "execution_count": 23,
   "metadata": {},
   "outputs": [
    {
     "data": {
      "text/plain": [
       "0       Does anyone else like taking long walks while ...\n",
       "1       Meditation is making me anxious I do a couple ...\n",
       "2       Rant about anxiety meds - I've been self medic...\n",
       "3       Some advice for my friend please? I dated this...\n",
       "4       Feeling like I’m back to where I started. I’ve...\n",
       "                              ...                        \n",
       "8581    Prozac + Buspar combo, does it make anyone els...\n",
       "8582    Insomnia and Anxiety To most people, a rough n...\n",
       "8583    Does weed help you guys? hey everyone, I'm pre...\n",
       "8584    Anxiety not allowing me to eat Does anyone els...\n",
       "8585    College swimmer with anxiety Hey guys im 20 ye...\n",
       "Name: post, Length: 8586, dtype: object"
      ]
     },
     "execution_count": 23,
     "metadata": {},
     "output_type": "execute_result"
    }
   ],
   "source": [
    "from nltk.corpus import stopwords\n",
    "import re\n",
    "import string\n",
    "STOPWORDS = stopwords.words('english')\n",
    "PUNCTUATION = string.punctuation\n",
    "\n",
    "def remove_urls(text):    \n",
    "    url_pattern = re.compile(r'https?://\\S+|www\\.\\S+')\n",
    "    return url_pattern.sub(r'', text)\n",
    "\n",
    "df['post'] = df['post'].apply(remove_urls)\n",
    "\n",
    "df['post']"
   ]
  },
  {
   "cell_type": "code",
   "execution_count": 27,
   "metadata": {},
   "outputs": [
    {
     "name": "stdout",
     "output_type": "stream",
     "text": [
      "[('feel', 'like', 'im'), ('anyone', 'else', 'experience'), ('anyone', 'else', 'get'), ('anyone', 'else', 'feel'), ('make', 'feel', 'like'), ('anxiety', 'panic', 'attack'), ('im', 'gon', 'na'), ('like', 'im', 'going'), ('long', 'story', 'short'), ('dont', 'know', 'im'), ('first', 'panic', 'attack'), ('dont', 'even', 'know'), ('feel', 'like', 'cant'), ('feel', 'like', 'going'), ('anxiety', 'feel', 'like'), ('dont', 'really', 'know'), ('feel', 'like', 'anxiety'), ('feel', 'like', 'ive'), ('always', 'feel', 'like'), ('feel', 'like', 'need'), ('generalized', 'anxiety', 'disorder'), ('cant', 'stop', 'thinking'), ('get', 'panic', 'attack'), ('every', 'single', 'day'), ('anyone', 'else', 'experienced'), ('feel', 'like', 'everyone'), ('first', 'time', 'posting'), ('even', 'though', 'know'), ('feel', 'like', 'dont'), ('feeling', 'like', 'im')]\n"
     ]
    }
   ],
   "source": [
    "df['post'] = df['post'].str.lower()\n",
    "df['post'] = df['post'].apply(remove_punctuation)\n",
    "df['post'] = df['post'].apply(remove_extra_white_spaces)\n",
    "df['post'] = df['post'].apply(remove_stopwords)\n",
    "df['post'] = df['post'].apply(drop_duplicates)\n",
    "df['post'] = df['post'].apply(lemmatize_text)\n",
    "\n",
    "\n",
    "lst = []\n",
    "for X in df['post']:\n",
    "    y = generate_N_grams(X,3)\n",
    "    lst.append(y)\n",
    "\n",
    "def flatten(input):\n",
    "    new_list = []\n",
    "    for i in input:\n",
    "        for j in i:\n",
    "            new_list.append(j)\n",
    "    return new_list\n",
    "\n",
    "lst1 = flatten(lst)\n",
    "\n",
    "finalList2 = []\n",
    "\n",
    "from collections import Counter\n",
    "c = Counter(lst1)\n",
    "M = c.most_common(30)\n",
    "\n",
    "for key,val in M:\n",
    "    finalList2.append(key)\n",
    "\n",
    "print(finalList2)"
   ]
  },
  {
   "cell_type": "code",
   "execution_count": 28,
   "metadata": {},
   "outputs": [
    {
     "name": "stdout",
     "output_type": "stream",
     "text": [
      "{('make', 'feel', 'like'), ('anyone', 'else', 'feel'), ('anyone', 'else', 'get'), ('feel', 'like', 'im'), ('anyone', 'else', 'experience')}\n"
     ]
    }
   ],
   "source": [
    "Y = set(finalList2) & set(finalList1)\n",
    "print(Y)"
   ]
  }
 ],
 "metadata": {
  "kernelspec": {
   "display_name": "Python 3",
   "language": "python",
   "name": "python3"
  },
  "language_info": {
   "codemirror_mode": {
    "name": "ipython",
    "version": 3
   },
   "file_extension": ".py",
   "mimetype": "text/x-python",
   "name": "python",
   "nbconvert_exporter": "python",
   "pygments_lexer": "ipython3",
   "version": "3.7.1"
  }
 },
 "nbformat": 4,
 "nbformat_minor": 2
}
